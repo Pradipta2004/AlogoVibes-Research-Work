{
 "cells": [
  {
   "cell_type": "code",
   "execution_count": 1,
   "id": "cb822502-791f-4ccd-9bee-c541c406c14e",
   "metadata": {},
   "outputs": [
    {
     "name": "stdout",
     "output_type": "stream",
     "text": [
      "Python 3.11.5\n"
     ]
    }
   ],
   "source": [
    "!python --version"
   ]
  },
  {
   "cell_type": "code",
   "execution_count": null,
   "id": "ecfc7565-467f-4611-a52d-85b1dff30805",
   "metadata": {},
   "outputs": [],
   "source": []
  },
  {
   "cell_type": "code",
   "execution_count": null,
   "id": "479332c5-432c-4760-a97b-ad56cf78f409",
   "metadata": {},
   "outputs": [],
   "source": [
    "import yfinance as yf\n",
    "import pandas as pd\n",
    "import matplotlib.pyplot as plt\n",
    "import mplfinance as mpf\n",
    "\n",
    "# Download minute-wise data\n",
    "data = yf.download('AAPL', start='2024-04-24', end='2024-04-25', interval='1m')\n",
    "\n",
    "# Calculate moving averages\n",
    "data['SMA_20'] = data['Close'].rolling(window=20).mean()\n",
    "data['SMA_50'] = data['Close'].rolling(window=50).mean()\n",
    "\n",
    "# Calculate Bollinger Bands\n",
    "data['20_SMA'] = data['Close'].rolling(window=20).mean()\n",
    "data['20_std'] = data['Close'].rolling(window=20).std()\n",
    "data['Upper_Band'] = data['20_SMA'] + (data['20_std'] * 2)\n",
    "data['Lower_Band'] = data['20_SMA'] - (data['20_std'] * 2)\n",
    "\n",
    "# Plot candlestick chart with indicators\n",
    "mpf.plot(data, type='candle', style='charles',\n",
    "         volume=True, mav=(20, 50),\n",
    "         tight_layout=True, title='AAPL Candlestick Chart with SMA and Bollinger Bands')\n"
   ]
  },
  {
   "cell_type": "code",
   "execution_count": null,
   "id": "1f491593-6f17-41b3-8132-7607ca2e0c6d",
   "metadata": {},
   "outputs": [],
   "source": []
  }
 ],
 "metadata": {
  "kernelspec": {
   "display_name": "Python 3 (ipykernel)",
   "language": "python",
   "name": "python3"
  },
  "language_info": {
   "codemirror_mode": {
    "name": "ipython",
    "version": 3
   },
   "file_extension": ".py",
   "mimetype": "text/x-python",
   "name": "python",
   "nbconvert_exporter": "python",
   "pygments_lexer": "ipython3",
   "version": "3.11.5"
  }
 },
 "nbformat": 4,
 "nbformat_minor": 5
}

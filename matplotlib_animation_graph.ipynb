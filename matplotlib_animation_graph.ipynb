{
 "cells": [
  {
   "cell_type": "code",
   "execution_count": 1,
   "id": "994d4ead-271a-461e-826f-7f29785e89d5",
   "metadata": {},
   "outputs": [],
   "source": [
    "import matplotlib.pyplot as plt\n",
    "from matplotlib.animation import FuncAnimation"
   ]
  },
  {
   "cell_type": "code",
   "execution_count": 3,
   "id": "47da20b4-243b-4d94-808b-a36bc9de481e",
   "metadata": {},
   "outputs": [],
   "source": [
    "import pandas as pd\n",
    "import yfinance as yf"
   ]
  },
  {
   "cell_type": "code",
   "execution_count": 16,
   "id": "1bddce96-0e45-4141-b573-356bddedf9aa",
   "metadata": {},
   "outputs": [
    {
     "name": "stderr",
     "output_type": "stream",
     "text": [
      "[*********************100%%**********************]  1 of 1 completed\n"
     ]
    }
   ],
   "source": [
    "df=yf.download('AAPL',start='2024-04-01')"
   ]
  },
  {
   "cell_type": "code",
   "execution_count": 17,
   "id": "94b7cdf2-d69d-490e-8009-30daf3f1650f",
   "metadata": {},
   "outputs": [
    {
     "data": {
      "text/html": [
       "<div>\n",
       "<style scoped>\n",
       "    .dataframe tbody tr th:only-of-type {\n",
       "        vertical-align: middle;\n",
       "    }\n",
       "\n",
       "    .dataframe tbody tr th {\n",
       "        vertical-align: top;\n",
       "    }\n",
       "\n",
       "    .dataframe thead th {\n",
       "        text-align: right;\n",
       "    }\n",
       "</style>\n",
       "<table border=\"1\" class=\"dataframe\">\n",
       "  <thead>\n",
       "    <tr style=\"text-align: right;\">\n",
       "      <th></th>\n",
       "      <th>Open</th>\n",
       "      <th>High</th>\n",
       "      <th>Low</th>\n",
       "      <th>Close</th>\n",
       "      <th>Adj Close</th>\n",
       "      <th>Volume</th>\n",
       "    </tr>\n",
       "    <tr>\n",
       "      <th>Date</th>\n",
       "      <th></th>\n",
       "      <th></th>\n",
       "      <th></th>\n",
       "      <th></th>\n",
       "      <th></th>\n",
       "      <th></th>\n",
       "    </tr>\n",
       "  </thead>\n",
       "  <tbody>\n",
       "    <tr>\n",
       "      <th>2024-04-01</th>\n",
       "      <td>171.190002</td>\n",
       "      <td>171.250000</td>\n",
       "      <td>169.479996</td>\n",
       "      <td>170.029999</td>\n",
       "      <td>170.029999</td>\n",
       "      <td>46240500</td>\n",
       "    </tr>\n",
       "    <tr>\n",
       "      <th>2024-04-02</th>\n",
       "      <td>169.080002</td>\n",
       "      <td>169.339996</td>\n",
       "      <td>168.229996</td>\n",
       "      <td>168.839996</td>\n",
       "      <td>168.839996</td>\n",
       "      <td>49329500</td>\n",
       "    </tr>\n",
       "    <tr>\n",
       "      <th>2024-04-03</th>\n",
       "      <td>168.789993</td>\n",
       "      <td>170.679993</td>\n",
       "      <td>168.580002</td>\n",
       "      <td>169.649994</td>\n",
       "      <td>169.649994</td>\n",
       "      <td>47691700</td>\n",
       "    </tr>\n",
       "    <tr>\n",
       "      <th>2024-04-04</th>\n",
       "      <td>170.289993</td>\n",
       "      <td>171.919998</td>\n",
       "      <td>168.820007</td>\n",
       "      <td>168.820007</td>\n",
       "      <td>168.820007</td>\n",
       "      <td>53704400</td>\n",
       "    </tr>\n",
       "    <tr>\n",
       "      <th>2024-04-05</th>\n",
       "      <td>169.589996</td>\n",
       "      <td>170.389999</td>\n",
       "      <td>168.949997</td>\n",
       "      <td>169.580002</td>\n",
       "      <td>169.580002</td>\n",
       "      <td>42055200</td>\n",
       "    </tr>\n",
       "    <tr>\n",
       "      <th>2024-04-08</th>\n",
       "      <td>169.029999</td>\n",
       "      <td>169.199997</td>\n",
       "      <td>168.240005</td>\n",
       "      <td>168.449997</td>\n",
       "      <td>168.449997</td>\n",
       "      <td>37425500</td>\n",
       "    </tr>\n",
       "    <tr>\n",
       "      <th>2024-04-09</th>\n",
       "      <td>168.699997</td>\n",
       "      <td>170.080002</td>\n",
       "      <td>168.350006</td>\n",
       "      <td>169.669998</td>\n",
       "      <td>169.669998</td>\n",
       "      <td>42451200</td>\n",
       "    </tr>\n",
       "    <tr>\n",
       "      <th>2024-04-10</th>\n",
       "      <td>168.800003</td>\n",
       "      <td>169.089996</td>\n",
       "      <td>167.110001</td>\n",
       "      <td>167.779999</td>\n",
       "      <td>167.779999</td>\n",
       "      <td>49709300</td>\n",
       "    </tr>\n",
       "    <tr>\n",
       "      <th>2024-04-11</th>\n",
       "      <td>168.339996</td>\n",
       "      <td>175.460007</td>\n",
       "      <td>168.160004</td>\n",
       "      <td>175.039993</td>\n",
       "      <td>175.039993</td>\n",
       "      <td>91070300</td>\n",
       "    </tr>\n",
       "    <tr>\n",
       "      <th>2024-04-12</th>\n",
       "      <td>174.259995</td>\n",
       "      <td>178.360001</td>\n",
       "      <td>174.210007</td>\n",
       "      <td>176.550003</td>\n",
       "      <td>176.550003</td>\n",
       "      <td>101593300</td>\n",
       "    </tr>\n",
       "    <tr>\n",
       "      <th>2024-04-15</th>\n",
       "      <td>175.360001</td>\n",
       "      <td>176.630005</td>\n",
       "      <td>172.500000</td>\n",
       "      <td>172.690002</td>\n",
       "      <td>172.690002</td>\n",
       "      <td>73531800</td>\n",
       "    </tr>\n",
       "    <tr>\n",
       "      <th>2024-04-16</th>\n",
       "      <td>171.750000</td>\n",
       "      <td>173.759995</td>\n",
       "      <td>168.270004</td>\n",
       "      <td>169.380005</td>\n",
       "      <td>169.380005</td>\n",
       "      <td>73711200</td>\n",
       "    </tr>\n",
       "    <tr>\n",
       "      <th>2024-04-17</th>\n",
       "      <td>169.610001</td>\n",
       "      <td>170.649994</td>\n",
       "      <td>168.000000</td>\n",
       "      <td>168.000000</td>\n",
       "      <td>168.000000</td>\n",
       "      <td>50901200</td>\n",
       "    </tr>\n",
       "    <tr>\n",
       "      <th>2024-04-18</th>\n",
       "      <td>168.029999</td>\n",
       "      <td>168.639999</td>\n",
       "      <td>166.550003</td>\n",
       "      <td>167.039993</td>\n",
       "      <td>167.039993</td>\n",
       "      <td>43122900</td>\n",
       "    </tr>\n",
       "    <tr>\n",
       "      <th>2024-04-19</th>\n",
       "      <td>166.210007</td>\n",
       "      <td>166.399994</td>\n",
       "      <td>164.080002</td>\n",
       "      <td>165.000000</td>\n",
       "      <td>165.000000</td>\n",
       "      <td>67772100</td>\n",
       "    </tr>\n",
       "  </tbody>\n",
       "</table>\n",
       "</div>"
      ],
      "text/plain": [
       "                  Open        High         Low       Close   Adj Close  \\\n",
       "Date                                                                     \n",
       "2024-04-01  171.190002  171.250000  169.479996  170.029999  170.029999   \n",
       "2024-04-02  169.080002  169.339996  168.229996  168.839996  168.839996   \n",
       "2024-04-03  168.789993  170.679993  168.580002  169.649994  169.649994   \n",
       "2024-04-04  170.289993  171.919998  168.820007  168.820007  168.820007   \n",
       "2024-04-05  169.589996  170.389999  168.949997  169.580002  169.580002   \n",
       "2024-04-08  169.029999  169.199997  168.240005  168.449997  168.449997   \n",
       "2024-04-09  168.699997  170.080002  168.350006  169.669998  169.669998   \n",
       "2024-04-10  168.800003  169.089996  167.110001  167.779999  167.779999   \n",
       "2024-04-11  168.339996  175.460007  168.160004  175.039993  175.039993   \n",
       "2024-04-12  174.259995  178.360001  174.210007  176.550003  176.550003   \n",
       "2024-04-15  175.360001  176.630005  172.500000  172.690002  172.690002   \n",
       "2024-04-16  171.750000  173.759995  168.270004  169.380005  169.380005   \n",
       "2024-04-17  169.610001  170.649994  168.000000  168.000000  168.000000   \n",
       "2024-04-18  168.029999  168.639999  166.550003  167.039993  167.039993   \n",
       "2024-04-19  166.210007  166.399994  164.080002  165.000000  165.000000   \n",
       "\n",
       "               Volume  \n",
       "Date                   \n",
       "2024-04-01   46240500  \n",
       "2024-04-02   49329500  \n",
       "2024-04-03   47691700  \n",
       "2024-04-04   53704400  \n",
       "2024-04-05   42055200  \n",
       "2024-04-08   37425500  \n",
       "2024-04-09   42451200  \n",
       "2024-04-10   49709300  \n",
       "2024-04-11   91070300  \n",
       "2024-04-12  101593300  \n",
       "2024-04-15   73531800  \n",
       "2024-04-16   73711200  \n",
       "2024-04-17   50901200  \n",
       "2024-04-18   43122900  \n",
       "2024-04-19   67772100  "
      ]
     },
     "execution_count": 17,
     "metadata": {},
     "output_type": "execute_result"
    }
   ],
   "source": [
    "df"
   ]
  },
  {
   "cell_type": "code",
   "execution_count": 18,
   "id": "3d2f0adc-38d9-4f1e-b6db-20907824b388",
   "metadata": {},
   "outputs": [],
   "source": [
    "def animate(i):\n",
    "    data =df\n",
    "    plt.cla()\n",
    "    plt.plot(data.Date, data.Close)\n",
    "    plt.xlabel('Time')\n",
    "    plt.ylabel('Price')\n",
    "    plt.title(asset)\n",
    "    plt.gcf().autofmt_xdate()\n",
    "    plt.tight_layout()\n"
   ]
  },
  {
   "cell_type": "code",
   "execution_count": 20,
   "id": "48eea57e-9a2b-48cb-8b30-073238f3b8cf",
   "metadata": {},
   "outputs": [
    {
     "data": {
      "text/plain": [
       "<Figure size 640x480 with 0 Axes>"
      ]
     },
     "metadata": {},
     "output_type": "display_data"
    }
   ],
   "source": [
    "ani=FuncAnimation(plt.gcf(),animate,1000)\n",
    "plt.tight_layout()\n",
    "plt.show()\n",
    "\n"
   ]
  },
  {
   "cell_type": "code",
   "execution_count": 24,
   "id": "ff84051c-4db6-4ba2-a565-7e0fddabe495",
   "metadata": {},
   "outputs": [
    {
     "name": "stderr",
     "output_type": "stream",
     "text": [
      "[*********************100%%**********************]  1 of 1 completed\n"
     ]
    },
    {
     "data": {
      "image/png": "[encoded data removed]",
      "text/plain": [
       "<Figure size 640x480 with 1 Axes>"
      ]
     },
     "metadata": {},
     "output_type": "display_data"
    }
   ],
   "source": [
    "import yfinance as yf\n",
    "import matplotlib.pyplot as plt\n",
    "import mplfinance as mpf\n",
    "import pandas as pd\n",
    "\n",
    "# Download historical data as dataframe\n",
    "df = yf.download(tickers='BTC-USD', period = '10m', interval = '1m')\n",
    "\n",
    "# Create figure and subplot\n",
    "fig, ax = plt.subplots()\n",
    "\n",
    "# Create candlestick chart\n",
    "mpf.plot(df, type='candle', ax=ax, volume=False)\n",
    "\n",
    "# Set plot title and labels\n",
    "ax.set_title('BTC-USD Live Candlestick Chart')\n",
    "ax.set_xlabel('Time')\n",
    "ax.set_ylabel('Price (USD)')\n",
    "\n",
    "# Show plot\n",
    "plt.show()"
   ]
  },
  {
   "cell_type": "code",
   "execution_count": 1,
   "id": "32099cfc-0e97-4677-aec0-56d4d706d9f5",
   "metadata": {},
   "outputs": [
    {
     "data": {
      "image/png": "[encoded data removed]",
      "text/plain": [
       "<Figure size 640x480 with 1 Axes>"
      ]
     },
     "metadata": {},
     "output_type": "display_data"
    }
   ],
   "source": [
    "import matplotlib.pyplot as plt\n",
    "import numpy as np\n",
    "import time\n",
    "\n",
    "# Create figure and subplot\n",
    "fig, ax = plt.subplots()\n",
    "\n",
    "# Initialize empty lists to store x and y data\n",
    "x = []\n",
    "y = []\n",
    "\n",
    "# Set plot limits\n",
    "ax.set_xlim(0, 10)\n",
    "ax.set_ylim(0, 10)\n",
    "\n",
    "# Function to update plot with new data\n",
    "def update(data):\n",
    "    ax.clear()\n",
    "    ax.plot(data[0], data[1])\n",
    "    ax.set_xlim(0, 10)\n",
    "    ax.set_ylim(0, 10)\n",
    "    plt.pause(0.01)\n",
    "\n",
    "# Calculate data in a loop\n",
    "for i in range(100):\n",
    "    x.append(i)\n",
    "    y.append(i*1)\n",
    "    update([x, y])\n",
    "    time.sleep(0.01)\n",
    "\n",
    "# Show plot\n",
    "plt.show()"
   ]
  },
  {
   "cell_type": "code",
   "execution_count": null,
   "id": "49983c0c-1ebd-4e09-95ba-9e0db00cbc02",
   "metadata": {},
   "outputs": [],
   "source": []
  }
 ],
 "metadata": {
  "kernelspec": {
   "display_name": "Python 3 (ipykernel)",
   "language": "python",
   "name": "python3"
  },
  "language_info": {
   "codemirror_mode": {
    "name": "ipython",
    "version": 3
   },
   "file_extension": ".py",
   "mimetype": "text/x-python",
   "name": "python",
   "nbconvert_exporter": "python",
   "pygments_lexer": "ipython3",
   "version": "3.11.5"
  }
 },
 "nbformat": 4,
 "nbformat_minor": 5
}
